{
 "cells": [
  {
   "cell_type": "markdown",
   "id": "81c22b4b",
   "metadata": {},
   "source": [
    "# Analyzing Used Car Listings on eBay Kleinanzeigen\n",
    "We will be working on a dataset of used cars from eBay Kleinanzeigen, a classifieds section of the German eBay website.\n",
    "\n",
    "The dataset was originally scraped and uploaded to Kaggle. The version of the dataset we are working with is a sample of 50,000 data points that was prepared by Dataquest including simulating a less-cleaned version of the data.\n",
    "\n",
    "The data dictionary provided with data is as follows:\n",
    "\n",
    "* dateCrawled - When this ad was first crawled. All field-values are taken from this date.\n",
    "* name - Name of the car.\n",
    "* seller - Whether the seller is private or a dealer.\n",
    "* offerType - The type of listing\n",
    "* price - The price on the ad to sell the car.\n",
    "* abtest - Whether the listing is included in an A/B test.\n",
    "* vehicleType - The vehicle Type.\n",
    "* yearOfRegistration - The year in which which year the car was first registered.\n",
    "* gearbox - The transmission type.\n",
    "* powerPS - The power of the car in PS.\n",
    "* model - The car model name.\n",
    "* kilometer - How many kilometers the car has driven.\n",
    "* monthOfRegistration - The month in which which year the car was first registered.\n",
    "* fuelType - What type of fuel the car uses.\n",
    "* brand - The brand of the car.\n",
    "* notRepairedDamage - If the car has a damage which is not yet repaired.\n",
    "* dateCreated - The date on which the eBay listing was created.\n",
    "* nrOfPictures - The number of pictures in the ad.\n",
    "* postalCode - The postal code for the location of the vehicle.\n",
    "* lastSeenOnline - When the crawler saw this ad last online.\n",
    "\n",
    "The aim of this project is to clean the data and analyze the included used car listings."
   ]
  },
  {
   "cell_type": "code",
   "execution_count": 1,
   "id": "2f6f9850",
   "metadata": {},
   "outputs": [
    {
     "name": "stdout",
     "output_type": "stream",
     "text": [
      "<class 'pandas.core.frame.DataFrame'>\n",
      "RangeIndex: 371528 entries, 0 to 371527\n",
      "Data columns (total 20 columns):\n",
      " #   Column               Non-Null Count   Dtype \n",
      "---  ------               --------------   ----- \n",
      " 0   dateCrawled          371528 non-null  object\n",
      " 1   name                 371528 non-null  object\n",
      " 2   seller               371528 non-null  object\n",
      " 3   offerType            371528 non-null  object\n",
      " 4   price                371528 non-null  int64 \n",
      " 5   abtest               371528 non-null  object\n",
      " 6   vehicleType          333659 non-null  object\n",
      " 7   yearOfRegistration   371528 non-null  int64 \n",
      " 8   gearbox              351319 non-null  object\n",
      " 9   powerPS              371528 non-null  int64 \n",
      " 10  model                351044 non-null  object\n",
      " 11  kilometer            371528 non-null  int64 \n",
      " 12  monthOfRegistration  371528 non-null  int64 \n",
      " 13  fuelType             338142 non-null  object\n",
      " 14  brand                371528 non-null  object\n",
      " 15  notRepairedDamage    299468 non-null  object\n",
      " 16  dateCreated          371528 non-null  object\n",
      " 17  nrOfPictures         371528 non-null  int64 \n",
      " 18  postalCode           371528 non-null  int64 \n",
      " 19  lastSeen             371528 non-null  object\n",
      "dtypes: int64(7), object(13)\n",
      "memory usage: 56.7+ MB\n"
     ]
    },
    {
     "data": {
      "text/html": [
       "<div>\n",
       "<style scoped>\n",
       "    .dataframe tbody tr th:only-of-type {\n",
       "        vertical-align: middle;\n",
       "    }\n",
       "\n",
       "    .dataframe tbody tr th {\n",
       "        vertical-align: top;\n",
       "    }\n",
       "\n",
       "    .dataframe thead th {\n",
       "        text-align: right;\n",
       "    }\n",
       "</style>\n",
       "<table border=\"1\" class=\"dataframe\">\n",
       "  <thead>\n",
       "    <tr style=\"text-align: right;\">\n",
       "      <th></th>\n",
       "      <th>dateCrawled</th>\n",
       "      <th>name</th>\n",
       "      <th>seller</th>\n",
       "      <th>offerType</th>\n",
       "      <th>price</th>\n",
       "      <th>abtest</th>\n",
       "      <th>vehicleType</th>\n",
       "      <th>yearOfRegistration</th>\n",
       "      <th>gearbox</th>\n",
       "      <th>powerPS</th>\n",
       "      <th>model</th>\n",
       "      <th>kilometer</th>\n",
       "      <th>monthOfRegistration</th>\n",
       "      <th>fuelType</th>\n",
       "      <th>brand</th>\n",
       "      <th>notRepairedDamage</th>\n",
       "      <th>dateCreated</th>\n",
       "      <th>nrOfPictures</th>\n",
       "      <th>postalCode</th>\n",
       "      <th>lastSeen</th>\n",
       "    </tr>\n",
       "  </thead>\n",
       "  <tbody>\n",
       "    <tr>\n",
       "      <th>0</th>\n",
       "      <td>2016-03-24 11:52:17</td>\n",
       "      <td>Golf_3_1.6</td>\n",
       "      <td>privat</td>\n",
       "      <td>Angebot</td>\n",
       "      <td>480</td>\n",
       "      <td>test</td>\n",
       "      <td>NaN</td>\n",
       "      <td>1993</td>\n",
       "      <td>manuell</td>\n",
       "      <td>0</td>\n",
       "      <td>golf</td>\n",
       "      <td>150000</td>\n",
       "      <td>0</td>\n",
       "      <td>benzin</td>\n",
       "      <td>volkswagen</td>\n",
       "      <td>NaN</td>\n",
       "      <td>2016-03-24 00:00:00</td>\n",
       "      <td>0</td>\n",
       "      <td>70435</td>\n",
       "      <td>2016-04-07 03:16:57</td>\n",
       "    </tr>\n",
       "    <tr>\n",
       "      <th>1</th>\n",
       "      <td>2016-03-24 10:58:45</td>\n",
       "      <td>A5_Sportback_2.7_Tdi</td>\n",
       "      <td>privat</td>\n",
       "      <td>Angebot</td>\n",
       "      <td>18300</td>\n",
       "      <td>test</td>\n",
       "      <td>coupe</td>\n",
       "      <td>2011</td>\n",
       "      <td>manuell</td>\n",
       "      <td>190</td>\n",
       "      <td>NaN</td>\n",
       "      <td>125000</td>\n",
       "      <td>5</td>\n",
       "      <td>diesel</td>\n",
       "      <td>audi</td>\n",
       "      <td>ja</td>\n",
       "      <td>2016-03-24 00:00:00</td>\n",
       "      <td>0</td>\n",
       "      <td>66954</td>\n",
       "      <td>2016-04-07 01:46:50</td>\n",
       "    </tr>\n",
       "    <tr>\n",
       "      <th>2</th>\n",
       "      <td>2016-03-14 12:52:21</td>\n",
       "      <td>Jeep_Grand_Cherokee_\"Overland\"</td>\n",
       "      <td>privat</td>\n",
       "      <td>Angebot</td>\n",
       "      <td>9800</td>\n",
       "      <td>test</td>\n",
       "      <td>suv</td>\n",
       "      <td>2004</td>\n",
       "      <td>automatik</td>\n",
       "      <td>163</td>\n",
       "      <td>grand</td>\n",
       "      <td>125000</td>\n",
       "      <td>8</td>\n",
       "      <td>diesel</td>\n",
       "      <td>jeep</td>\n",
       "      <td>NaN</td>\n",
       "      <td>2016-03-14 00:00:00</td>\n",
       "      <td>0</td>\n",
       "      <td>90480</td>\n",
       "      <td>2016-04-05 12:47:46</td>\n",
       "    </tr>\n",
       "    <tr>\n",
       "      <th>3</th>\n",
       "      <td>2016-03-17 16:54:04</td>\n",
       "      <td>GOLF_4_1_4__3TÜRER</td>\n",
       "      <td>privat</td>\n",
       "      <td>Angebot</td>\n",
       "      <td>1500</td>\n",
       "      <td>test</td>\n",
       "      <td>kleinwagen</td>\n",
       "      <td>2001</td>\n",
       "      <td>manuell</td>\n",
       "      <td>75</td>\n",
       "      <td>golf</td>\n",
       "      <td>150000</td>\n",
       "      <td>6</td>\n",
       "      <td>benzin</td>\n",
       "      <td>volkswagen</td>\n",
       "      <td>nein</td>\n",
       "      <td>2016-03-17 00:00:00</td>\n",
       "      <td>0</td>\n",
       "      <td>91074</td>\n",
       "      <td>2016-03-17 17:40:17</td>\n",
       "    </tr>\n",
       "    <tr>\n",
       "      <th>4</th>\n",
       "      <td>2016-03-31 17:25:20</td>\n",
       "      <td>Skoda_Fabia_1.4_TDI_PD_Classic</td>\n",
       "      <td>privat</td>\n",
       "      <td>Angebot</td>\n",
       "      <td>3600</td>\n",
       "      <td>test</td>\n",
       "      <td>kleinwagen</td>\n",
       "      <td>2008</td>\n",
       "      <td>manuell</td>\n",
       "      <td>69</td>\n",
       "      <td>fabia</td>\n",
       "      <td>90000</td>\n",
       "      <td>7</td>\n",
       "      <td>diesel</td>\n",
       "      <td>skoda</td>\n",
       "      <td>nein</td>\n",
       "      <td>2016-03-31 00:00:00</td>\n",
       "      <td>0</td>\n",
       "      <td>60437</td>\n",
       "      <td>2016-04-06 10:17:21</td>\n",
       "    </tr>\n",
       "  </tbody>\n",
       "</table>\n",
       "</div>"
      ],
      "text/plain": [
       "           dateCrawled                            name  seller offerType  \\\n",
       "0  2016-03-24 11:52:17                      Golf_3_1.6  privat   Angebot   \n",
       "1  2016-03-24 10:58:45            A5_Sportback_2.7_Tdi  privat   Angebot   \n",
       "2  2016-03-14 12:52:21  Jeep_Grand_Cherokee_\"Overland\"  privat   Angebot   \n",
       "3  2016-03-17 16:54:04              GOLF_4_1_4__3TÜRER  privat   Angebot   \n",
       "4  2016-03-31 17:25:20  Skoda_Fabia_1.4_TDI_PD_Classic  privat   Angebot   \n",
       "\n",
       "   price abtest vehicleType  yearOfRegistration    gearbox  powerPS  model  \\\n",
       "0    480   test         NaN                1993    manuell        0   golf   \n",
       "1  18300   test       coupe                2011    manuell      190    NaN   \n",
       "2   9800   test         suv                2004  automatik      163  grand   \n",
       "3   1500   test  kleinwagen                2001    manuell       75   golf   \n",
       "4   3600   test  kleinwagen                2008    manuell       69  fabia   \n",
       "\n",
       "   kilometer  monthOfRegistration fuelType       brand notRepairedDamage  \\\n",
       "0     150000                    0   benzin  volkswagen               NaN   \n",
       "1     125000                    5   diesel        audi                ja   \n",
       "2     125000                    8   diesel        jeep               NaN   \n",
       "3     150000                    6   benzin  volkswagen              nein   \n",
       "4      90000                    7   diesel       skoda              nein   \n",
       "\n",
       "           dateCreated  nrOfPictures  postalCode             lastSeen  \n",
       "0  2016-03-24 00:00:00             0       70435  2016-04-07 03:16:57  \n",
       "1  2016-03-24 00:00:00             0       66954  2016-04-07 01:46:50  \n",
       "2  2016-03-14 00:00:00             0       90480  2016-04-05 12:47:46  \n",
       "3  2016-03-17 00:00:00             0       91074  2016-03-17 17:40:17  \n",
       "4  2016-03-31 00:00:00             0       60437  2016-04-06 10:17:21  "
      ]
     },
     "execution_count": 1,
     "metadata": {},
     "output_type": "execute_result"
    }
   ],
   "source": [
    "import pandas as pd\n",
    "import numpy as np\n",
    "import csv as csv\n",
    "\n",
    "autos = pd.read_csv('../Datasets/autos.csv', encoding='Latin-1')\n",
    "autos.info()\n",
    "autos.head()"
   ]
  },
  {
   "cell_type": "markdown",
   "id": "9d707140",
   "metadata": {},
   "source": [
    "Our dataset contains 20 columns, most of which are stored as strings. There are a few columns with null values, but no columns have more than ~20% null values. There are some columns that contain dates stored as strings.\n",
    "\n",
    "We'll start by cleaning the column names to make the data easier to work with."
   ]
  },
  {
   "cell_type": "code",
   "execution_count": 2,
   "id": "f2657551",
   "metadata": {},
   "outputs": [
    {
     "data": {
      "text/html": [
       "<div>\n",
       "<style scoped>\n",
       "    .dataframe tbody tr th:only-of-type {\n",
       "        vertical-align: middle;\n",
       "    }\n",
       "\n",
       "    .dataframe tbody tr th {\n",
       "        vertical-align: top;\n",
       "    }\n",
       "\n",
       "    .dataframe thead th {\n",
       "        text-align: right;\n",
       "    }\n",
       "</style>\n",
       "<table border=\"1\" class=\"dataframe\">\n",
       "  <thead>\n",
       "    <tr style=\"text-align: right;\">\n",
       "      <th></th>\n",
       "      <th>date_crawled</th>\n",
       "      <th>name</th>\n",
       "      <th>seller</th>\n",
       "      <th>offer_type</th>\n",
       "      <th>price</th>\n",
       "      <th>ab_test</th>\n",
       "      <th>vehicle_type</th>\n",
       "      <th>registration_year</th>\n",
       "      <th>gear_box</th>\n",
       "      <th>power_ps</th>\n",
       "      <th>model</th>\n",
       "      <th>kilometer</th>\n",
       "      <th>registration_month</th>\n",
       "      <th>fuel_type</th>\n",
       "      <th>brand</th>\n",
       "      <th>unrepaired_damage</th>\n",
       "      <th>ad_created</th>\n",
       "      <th>nr_of_pictures</th>\n",
       "      <th>postal_code</th>\n",
       "      <th>last_seen</th>\n",
       "    </tr>\n",
       "  </thead>\n",
       "  <tbody>\n",
       "  </tbody>\n",
       "</table>\n",
       "</div>"
      ],
      "text/plain": [
       "Empty DataFrame\n",
       "Columns: [date_crawled, name, seller, offer_type, price, ab_test, vehicle_type, registration_year, gear_box, power_ps, model, kilometer, registration_month, fuel_type, brand, unrepaired_damage, ad_created, nr_of_pictures, postal_code, last_seen]\n",
       "Index: []"
      ]
     },
     "execution_count": 2,
     "metadata": {},
     "output_type": "execute_result"
    }
   ],
   "source": [
    "autos.columns\n",
    "autos_copy = ['date_crawled', 'name', 'seller', 'offer_type', 'price', 'ab_test',\n",
    "       'vehicle_type', 'registration_year', 'gear_box', 'power_ps', 'model',\n",
    "       'kilometer', 'registration_month', 'fuel_type', 'brand',\n",
    "       'unrepaired_damage', 'ad_created', 'nr_of_pictures', 'postal_code',\n",
    "       'last_seen']\n",
    "autos.columns = autos_copy\n",
    "autos.head(0)\n"
   ]
  },
  {
   "cell_type": "markdown",
   "id": "d18ab660",
   "metadata": {},
   "source": [
    "# Data Cleaning\n",
    "Made changes to above column names from camel case to snake case as well as some name changes."
   ]
  },
  {
   "cell_type": "code",
   "execution_count": 3,
   "id": "305f4f72",
   "metadata": {},
   "outputs": [
    {
     "data": {
      "text/plain": [
       "<bound method NDFrame.describe of                date_crawled                                          name  \\\n",
       "0       2016-03-24 11:52:17                                    Golf_3_1.6   \n",
       "1       2016-03-24 10:58:45                          A5_Sportback_2.7_Tdi   \n",
       "2       2016-03-14 12:52:21                Jeep_Grand_Cherokee_\"Overland\"   \n",
       "3       2016-03-17 16:54:04                            GOLF_4_1_4__3TÜRER   \n",
       "4       2016-03-31 17:25:20                Skoda_Fabia_1.4_TDI_PD_Classic   \n",
       "...                     ...                                           ...   \n",
       "371523  2016-03-14 17:48:27                    Suche_t4___vito_ab_6_sitze   \n",
       "371524  2016-03-05 19:56:21         Smart_smart_leistungssteigerung_100ps   \n",
       "371525  2016-03-19 18:57:12            Volkswagen_Multivan_T4_TDI_7DC_UY2   \n",
       "371526  2016-03-20 19:41:08                        VW_Golf_Kombi_1_9l_TDI   \n",
       "371527  2016-03-07 19:39:19  BMW_M135i_vollausgestattet_NP_52.720____Euro   \n",
       "\n",
       "        seller offer_type  price  ab_test vehicle_type  registration_year  \\\n",
       "0       privat    Angebot    480     test          NaN               1993   \n",
       "1       privat    Angebot  18300     test        coupe               2011   \n",
       "2       privat    Angebot   9800     test          suv               2004   \n",
       "3       privat    Angebot   1500     test   kleinwagen               2001   \n",
       "4       privat    Angebot   3600     test   kleinwagen               2008   \n",
       "...        ...        ...    ...      ...          ...                ...   \n",
       "371523  privat    Angebot   2200     test          NaN               2005   \n",
       "371524  privat    Angebot   1199     test       cabrio               2000   \n",
       "371525  privat    Angebot   9200     test          bus               1996   \n",
       "371526  privat    Angebot   3400     test        kombi               2002   \n",
       "371527  privat    Angebot  28990  control    limousine               2013   \n",
       "\n",
       "         gear_box  power_ps        model  kilometer  registration_month  \\\n",
       "0         manuell         0         golf     150000                   0   \n",
       "1         manuell       190          NaN     125000                   5   \n",
       "2       automatik       163        grand     125000                   8   \n",
       "3         manuell        75         golf     150000                   6   \n",
       "4         manuell        69        fabia      90000                   7   \n",
       "...           ...       ...          ...        ...                 ...   \n",
       "371523        NaN         0          NaN      20000                   1   \n",
       "371524  automatik       101       fortwo     125000                   3   \n",
       "371525    manuell       102  transporter     150000                   3   \n",
       "371526    manuell       100         golf     150000                   6   \n",
       "371527    manuell       320      m_reihe      50000                   8   \n",
       "\n",
       "       fuel_type           brand unrepaired_damage           ad_created  \\\n",
       "0         benzin      volkswagen               NaN  2016-03-24 00:00:00   \n",
       "1         diesel            audi                ja  2016-03-24 00:00:00   \n",
       "2         diesel            jeep               NaN  2016-03-14 00:00:00   \n",
       "3         benzin      volkswagen              nein  2016-03-17 00:00:00   \n",
       "4         diesel           skoda              nein  2016-03-31 00:00:00   \n",
       "...          ...             ...               ...                  ...   \n",
       "371523       NaN  sonstige_autos               NaN  2016-03-14 00:00:00   \n",
       "371524    benzin           smart              nein  2016-03-05 00:00:00   \n",
       "371525    diesel      volkswagen              nein  2016-03-19 00:00:00   \n",
       "371526    diesel      volkswagen               NaN  2016-03-20 00:00:00   \n",
       "371527    benzin             bmw              nein  2016-03-07 00:00:00   \n",
       "\n",
       "        nr_of_pictures  postal_code            last_seen  \n",
       "0                    0        70435  2016-04-07 03:16:57  \n",
       "1                    0        66954  2016-04-07 01:46:50  \n",
       "2                    0        90480  2016-04-05 12:47:46  \n",
       "3                    0        91074  2016-03-17 17:40:17  \n",
       "4                    0        60437  2016-04-06 10:17:21  \n",
       "...                ...          ...                  ...  \n",
       "371523               0        39576  2016-04-06 00:46:52  \n",
       "371524               0        26135  2016-03-11 18:17:12  \n",
       "371525               0        87439  2016-04-07 07:15:26  \n",
       "371526               0        40764  2016-03-24 12:45:21  \n",
       "371527               0        73326  2016-03-22 03:17:10  \n",
       "\n",
       "[371528 rows x 20 columns]>"
      ]
     },
     "execution_count": 3,
     "metadata": {},
     "output_type": "execute_result"
    }
   ],
   "source": [
    "autos.describe"
   ]
  },
  {
   "cell_type": "code",
   "execution_count": 6,
   "id": "537aae86",
   "metadata": {},
   "outputs": [
    {
     "data": {
      "text/plain": [
       "array([  480, 18300,  9800, ..., 18429, 24895, 10985])"
      ]
     },
     "execution_count": 6,
     "metadata": {},
     "output_type": "execute_result"
    }
   ],
   "source": [
    "autos[\"price\"].unique()"
   ]
  },
  {
   "cell_type": "code",
   "execution_count": 12,
   "id": "d2d2d4d1",
   "metadata": {},
   "outputs": [],
   "source": [
    "# Convert to float\n",
    "autos[\"price\"] = autos[\"price\"].astype(float)"
   ]
  },
  {
   "cell_type": "code",
   "execution_count": 15,
   "id": "2f3de594",
   "metadata": {},
   "outputs": [
    {
     "data": {
      "text/plain": [
       "array([150000, 125000,  90000,  40000,  30000,  70000,   5000, 100000,\n",
       "        60000,  20000,  80000,  50000,  10000])"
      ]
     },
     "execution_count": 15,
     "metadata": {},
     "output_type": "execute_result"
    }
   ],
   "source": [
    "autos[\"kilometer\"].unique()"
   ]
  },
  {
   "cell_type": "code",
   "execution_count": 17,
   "id": "dad9d0f9",
   "metadata": {},
   "outputs": [],
   "source": [
    "#Convert kilometer column to odometer_km\n",
    "autos.rename({\"kilometer\":\"odometer_km\"}, axis=1, inplace = True)"
   ]
  },
  {
   "cell_type": "markdown",
   "id": "bf9e5442",
   "metadata": {},
   "source": [
    "# Exploring price and odometer_km columns"
   ]
  },
  {
   "cell_type": "code",
   "execution_count": 19,
   "id": "c67b1dc4",
   "metadata": {},
   "outputs": [],
   "source": [
    "odometer_km = autos[\"odometer_km\"]"
   ]
  },
  {
   "cell_type": "code",
   "execution_count": 20,
   "id": "bfaeb27b",
   "metadata": {},
   "outputs": [
    {
     "data": {
      "text/plain": [
       "(13,)"
      ]
     },
     "execution_count": 20,
     "metadata": {},
     "output_type": "execute_result"
    }
   ],
   "source": [
    "# See how many unique values\n",
    "odometer_km.unique().shape"
   ]
  },
  {
   "cell_type": "code",
   "execution_count": 21,
   "id": "57ca31e7",
   "metadata": {},
   "outputs": [
    {
     "data": {
      "text/plain": [
       "count    371528.000000\n",
       "mean     125618.688228\n",
       "std       40112.337051\n",
       "min        5000.000000\n",
       "25%      125000.000000\n",
       "50%      150000.000000\n",
       "75%      150000.000000\n",
       "max      150000.000000\n",
       "Name: odometer_km, dtype: float64"
      ]
     },
     "execution_count": 21,
     "metadata": {},
     "output_type": "execute_result"
    }
   ],
   "source": [
    "odometer_km.describe()"
   ]
  },
  {
   "cell_type": "code",
   "execution_count": 23,
   "id": "2365652c",
   "metadata": {},
   "outputs": [
    {
     "data": {
      "text/plain": [
       "150000    240797\n",
       "125000     38067\n",
       "100000     15920\n",
       "90000      12523\n",
       "80000      11053\n",
       "70000       9773\n",
       "60000       8669\n",
       "50000       7615\n",
       "40000       6376\n",
       "30000       6041\n",
       "20000       5676\n",
       "10000       1949\n",
       "5000        7069\n",
       "Name: odometer_km, dtype: int64"
      ]
     },
     "execution_count": 23,
     "metadata": {},
     "output_type": "execute_result"
    }
   ],
   "source": [
    "odometer_km.value_counts().sort_index(ascending=False)"
   ]
  },
  {
   "cell_type": "code",
   "execution_count": 24,
   "id": "8a5f7e6a",
   "metadata": {},
   "outputs": [],
   "source": [
    "price = autos[\"price\"]"
   ]
  },
  {
   "cell_type": "code",
   "execution_count": 25,
   "id": "ceaa2deb",
   "metadata": {},
   "outputs": [
    {
     "data": {
      "text/plain": [
       "(5597,)"
      ]
     },
     "execution_count": 25,
     "metadata": {},
     "output_type": "execute_result"
    }
   ],
   "source": [
    "price.unique().shape"
   ]
  },
  {
   "cell_type": "code",
   "execution_count": 26,
   "id": "072dd9f4",
   "metadata": {},
   "outputs": [
    {
     "data": {
      "text/plain": [
       "count    3.715280e+05\n",
       "mean     1.729514e+04\n",
       "std      3.587954e+06\n",
       "min      0.000000e+00\n",
       "25%      1.150000e+03\n",
       "50%      2.950000e+03\n",
       "75%      7.200000e+03\n",
       "max      2.147484e+09\n",
       "Name: price, dtype: float64"
      ]
     },
     "execution_count": 26,
     "metadata": {},
     "output_type": "execute_result"
    }
   ],
   "source": [
    "price.describe()"
   ]
  },
  {
   "cell_type": "code",
   "execution_count": 27,
   "id": "f956d7af",
   "metadata": {},
   "outputs": [
    {
     "data": {
      "text/plain": [
       "2.147484e+09     1\n",
       "1.000000e+08    15\n",
       "9.900000e+07     1\n",
       "7.418530e+07     1\n",
       "3.254546e+07     1\n",
       "2.732222e+07     1\n",
       "1.400050e+07     1\n",
       "Name: price, dtype: int64"
      ]
     },
     "execution_count": 27,
     "metadata": {},
     "output_type": "execute_result"
    }
   ],
   "source": [
    "price.value_counts().sort_index(ascending=False).head(7)"
   ]
  },
  {
   "cell_type": "code",
   "execution_count": 28,
   "id": "499022fa",
   "metadata": {},
   "outputs": [
    {
     "data": {
      "text/html": [
       "<div>\n",
       "<style scoped>\n",
       "    .dataframe tbody tr th:only-of-type {\n",
       "        vertical-align: middle;\n",
       "    }\n",
       "\n",
       "    .dataframe tbody tr th {\n",
       "        vertical-align: top;\n",
       "    }\n",
       "\n",
       "    .dataframe thead th {\n",
       "        text-align: right;\n",
       "    }\n",
       "</style>\n",
       "<table border=\"1\" class=\"dataframe\">\n",
       "  <thead>\n",
       "    <tr style=\"text-align: right;\">\n",
       "      <th></th>\n",
       "      <th>date_crawled</th>\n",
       "      <th>ad_created</th>\n",
       "      <th>last_seen</th>\n",
       "    </tr>\n",
       "  </thead>\n",
       "  <tbody>\n",
       "    <tr>\n",
       "      <th>0</th>\n",
       "      <td>2016-03-24 11:52:17</td>\n",
       "      <td>2016-03-24 00:00:00</td>\n",
       "      <td>2016-04-07 03:16:57</td>\n",
       "    </tr>\n",
       "    <tr>\n",
       "      <th>1</th>\n",
       "      <td>2016-03-24 10:58:45</td>\n",
       "      <td>2016-03-24 00:00:00</td>\n",
       "      <td>2016-04-07 01:46:50</td>\n",
       "    </tr>\n",
       "    <tr>\n",
       "      <th>2</th>\n",
       "      <td>2016-03-14 12:52:21</td>\n",
       "      <td>2016-03-14 00:00:00</td>\n",
       "      <td>2016-04-05 12:47:46</td>\n",
       "    </tr>\n",
       "    <tr>\n",
       "      <th>3</th>\n",
       "      <td>2016-03-17 16:54:04</td>\n",
       "      <td>2016-03-17 00:00:00</td>\n",
       "      <td>2016-03-17 17:40:17</td>\n",
       "    </tr>\n",
       "    <tr>\n",
       "      <th>4</th>\n",
       "      <td>2016-03-31 17:25:20</td>\n",
       "      <td>2016-03-31 00:00:00</td>\n",
       "      <td>2016-04-06 10:17:21</td>\n",
       "    </tr>\n",
       "  </tbody>\n",
       "</table>\n",
       "</div>"
      ],
      "text/plain": [
       "          date_crawled           ad_created            last_seen\n",
       "0  2016-03-24 11:52:17  2016-03-24 00:00:00  2016-04-07 03:16:57\n",
       "1  2016-03-24 10:58:45  2016-03-24 00:00:00  2016-04-07 01:46:50\n",
       "2  2016-03-14 12:52:21  2016-03-14 00:00:00  2016-04-05 12:47:46\n",
       "3  2016-03-17 16:54:04  2016-03-17 00:00:00  2016-03-17 17:40:17\n",
       "4  2016-03-31 17:25:20  2016-03-31 00:00:00  2016-04-06 10:17:21"
      ]
     },
     "execution_count": 28,
     "metadata": {},
     "output_type": "execute_result"
    }
   ],
   "source": [
    "# Examining date columns\n",
    "autos[[\"date_crawled\",\"ad_created\",\"last_seen\"]].head()"
   ]
  },
  {
   "cell_type": "code",
   "execution_count": 29,
   "id": "6b2cc72f",
   "metadata": {},
   "outputs": [
    {
     "data": {
      "text/plain": [
       "2016-04-03    0.038735\n",
       "2016-04-04    0.037612\n",
       "2016-03-20    0.036353\n",
       "2016-03-14    0.036275\n",
       "2016-03-12    0.036194\n",
       "2016-03-21    0.035739\n",
       "2016-03-07    0.035690\n",
       "2016-03-19    0.035292\n",
       "2016-03-28    0.035112\n",
       "2016-04-02    0.035079\n",
       "2016-03-09    0.034210\n",
       "2016-03-29    0.034170\n",
       "2016-04-01    0.034116\n",
       "2016-03-30    0.033529\n",
       "2016-03-08    0.033454\n",
       "2016-03-15    0.033451\n",
       "2016-03-25    0.032934\n",
       "2016-03-11    0.032727\n",
       "2016-03-10    0.032563\n",
       "2016-03-22    0.032469\n",
       "2016-03-23    0.031971\n",
       "2016-03-26    0.031965\n",
       "2016-03-31    0.031885\n",
       "2016-03-17    0.031661\n",
       "2016-03-27    0.030275\n",
       "2016-03-16    0.030148\n",
       "2016-03-24    0.029912\n",
       "2016-03-05    0.025551\n",
       "2016-03-13    0.015735\n",
       "2016-03-06    0.014462\n",
       "2016-03-18    0.013127\n",
       "2016-04-05    0.012823\n",
       "2016-04-06    0.003163\n",
       "2016-04-07    0.001620\n",
       "Name: date_crawled, dtype: float64"
      ]
     },
     "execution_count": 29,
     "metadata": {},
     "output_type": "execute_result"
    }
   ],
   "source": [
    "# Get only the date\n",
    "autos[\"date_crawled\"].str[:10].value_counts(normalize=True,dropna=False)"
   ]
  },
  {
   "cell_type": "code",
   "execution_count": 30,
   "id": "40fada38",
   "metadata": {},
   "outputs": [
    {
     "data": {
      "text/plain": [
       "2016-03-05    0.025551\n",
       "2016-03-06    0.014462\n",
       "2016-03-07    0.035690\n",
       "2016-03-08    0.033454\n",
       "2016-03-09    0.034210\n",
       "2016-03-10    0.032563\n",
       "2016-03-11    0.032727\n",
       "2016-03-12    0.036194\n",
       "2016-03-13    0.015735\n",
       "2016-03-14    0.036275\n",
       "2016-03-15    0.033451\n",
       "2016-03-16    0.030148\n",
       "2016-03-17    0.031661\n",
       "2016-03-18    0.013127\n",
       "2016-03-19    0.035292\n",
       "2016-03-20    0.036353\n",
       "2016-03-21    0.035739\n",
       "2016-03-22    0.032469\n",
       "2016-03-23    0.031971\n",
       "2016-03-24    0.029912\n",
       "2016-03-25    0.032934\n",
       "2016-03-26    0.031965\n",
       "2016-03-27    0.030275\n",
       "2016-03-28    0.035112\n",
       "2016-03-29    0.034170\n",
       "2016-03-30    0.033529\n",
       "2016-03-31    0.031885\n",
       "2016-04-01    0.034116\n",
       "2016-04-02    0.035079\n",
       "2016-04-03    0.038735\n",
       "2016-04-04    0.037612\n",
       "2016-04-05    0.012823\n",
       "2016-04-06    0.003163\n",
       "2016-04-07    0.001620\n",
       "Name: date_crawled, dtype: float64"
      ]
     },
     "execution_count": 30,
     "metadata": {},
     "output_type": "execute_result"
    }
   ],
   "source": [
    "autos[\"date_crawled\"].str[:10].value_counts(normalize=True,dropna=False).sort_index()"
   ]
  },
  {
   "cell_type": "code",
   "execution_count": 31,
   "id": "15a7e728",
   "metadata": {},
   "outputs": [
    {
     "data": {
      "text/plain": [
       "2016-04-03    0.038893\n",
       "2016-04-04    0.037741\n",
       "2016-03-20    0.036463\n",
       "2016-03-12    0.036011\n",
       "2016-03-21    0.035812\n",
       "                ...   \n",
       "2016-01-14    0.000003\n",
       "2015-11-13    0.000003\n",
       "2015-08-07    0.000003\n",
       "2015-11-12    0.000003\n",
       "2015-06-18    0.000003\n",
       "Name: ad_created, Length: 114, dtype: float64"
      ]
     },
     "execution_count": 31,
     "metadata": {},
     "output_type": "execute_result"
    }
   ],
   "source": [
    "autos[\"ad_created\"].str[:10].value_counts(normalize=True,dropna=False)"
   ]
  },
  {
   "cell_type": "code",
   "execution_count": 32,
   "id": "6aa62994",
   "metadata": {},
   "outputs": [
    {
     "data": {
      "text/plain": [
       "2016-03-05    0.001292\n",
       "2016-03-06    0.004134\n",
       "2016-03-07    0.005262\n",
       "2016-03-08    0.008056\n",
       "2016-03-09    0.009994\n",
       "2016-03-10    0.011563\n",
       "2016-03-11    0.013046\n",
       "2016-03-12    0.023401\n",
       "2016-03-13    0.008489\n",
       "2016-03-14    0.012301\n",
       "2016-03-15    0.016411\n",
       "2016-03-16    0.016419\n",
       "2016-03-17    0.028760\n",
       "2016-03-18    0.006931\n",
       "2016-03-19    0.016314\n",
       "2016-03-20    0.019915\n",
       "2016-03-21    0.020136\n",
       "2016-03-22    0.020607\n",
       "2016-03-23    0.018149\n",
       "2016-03-24    0.019237\n",
       "2016-03-25    0.019097\n",
       "2016-03-26    0.016160\n",
       "2016-03-27    0.016909\n",
       "2016-03-28    0.022273\n",
       "2016-03-29    0.023312\n",
       "2016-03-30    0.023856\n",
       "2016-03-31    0.024238\n",
       "2016-04-01    0.024022\n",
       "2016-04-02    0.025016\n",
       "2016-04-03    0.025366\n",
       "2016-04-04    0.025654\n",
       "2016-04-05    0.126206\n",
       "2016-04-06    0.217830\n",
       "2016-04-07    0.129648\n",
       "Name: last_seen, dtype: float64"
      ]
     },
     "execution_count": 32,
     "metadata": {},
     "output_type": "execute_result"
    }
   ],
   "source": [
    "autos[\"last_seen\"].str[:10].value_counts(normalize=True,dropna=False).sort_index()"
   ]
  },
  {
   "cell_type": "code",
   "execution_count": 33,
   "id": "ec3a1940",
   "metadata": {},
   "outputs": [
    {
     "data": {
      "text/plain": [
       "count    371528.000000\n",
       "mean       2004.577997\n",
       "std          92.866598\n",
       "min        1000.000000\n",
       "25%        1999.000000\n",
       "50%        2003.000000\n",
       "75%        2008.000000\n",
       "max        9999.000000\n",
       "Name: registration_year, dtype: float64"
      ]
     },
     "execution_count": 33,
     "metadata": {},
     "output_type": "execute_result"
    }
   ],
   "source": [
    "autos[\"registration_year\"].describe()"
   ]
  },
  {
   "cell_type": "code",
   "execution_count": 34,
   "id": "88637389",
   "metadata": {},
   "outputs": [
    {
     "data": {
      "text/plain": [
       "array([1993, 2011, 2004, 2001, 2008, 1995, 1980, 2014, 1998, 2005, 1910,\n",
       "       2016, 2007, 2009, 2002, 2018, 1997, 1990, 2017, 1981, 2003, 1994,\n",
       "       1991, 1984, 2006, 1999, 2012, 2010, 2000, 1992, 2013, 1996, 1985,\n",
       "       1989, 2015, 1968, 1982, 1976, 1983, 1959, 1973, 1111, 1969, 1971,\n",
       "       1987, 1986, 1988, 1967, 1970, 1965, 1945, 1925, 1974, 1979, 1955,\n",
       "       1978, 1972, 1977, 1961, 1963, 1964, 1960, 1966, 1975, 1937, 1936,\n",
       "       5000, 1954, 1958, 9999, 1956, 3200, 1000, 1933, 1941, 1962, 8888,\n",
       "       1500, 2200, 4100, 1929, 1951, 1957, 1940, 3000, 2066, 1949, 2019,\n",
       "       1800, 1953, 1935, 1234, 8000, 5300, 9000, 2900, 6000, 5900, 5911,\n",
       "       1400, 1950, 4000, 1948, 1952, 1200, 8500, 1932, 1255, 1927, 1923,\n",
       "       1931, 3700, 3800, 4800, 1942, 7000, 1911, 6500, 2290, 2500, 1930,\n",
       "       1001, 6200, 9450, 1944, 1943, 1947, 1934, 1938, 1688, 2800, 1253,\n",
       "       1928, 7500, 1919, 5555, 7777, 5600, 1600, 1939, 2222, 1039, 9996,\n",
       "       1300, 8455, 1915, 4500, 1920, 1602, 7800, 9229, 1946, 7100, 8200,\n",
       "       3500])"
      ]
     },
     "execution_count": 34,
     "metadata": {},
     "output_type": "execute_result"
    }
   ],
   "source": [
    "autos[\"registration_year\"].unique()"
   ]
  },
  {
   "cell_type": "code",
   "execution_count": 35,
   "id": "4468c355",
   "metadata": {},
   "outputs": [
    {
     "data": {
      "text/plain": [
       "(14748, 20)"
      ]
     },
     "execution_count": 35,
     "metadata": {},
     "output_type": "execute_result"
    }
   ],
   "source": [
    "condition = (autos[\"registration_year\"]<1900) | (autos[\"registration_year\"]>2016)\n",
    "autos[condition].shape"
   ]
  },
  {
   "cell_type": "code",
   "execution_count": 36,
   "id": "37e92b05",
   "metadata": {},
   "outputs": [
    {
     "data": {
      "text/plain": [
       "count    356780.000000\n",
       "mean       2002.779805\n",
       "std           7.395775\n",
       "min        1910.000000\n",
       "25%        1999.000000\n",
       "50%        2003.000000\n",
       "75%        2008.000000\n",
       "max        2016.000000\n",
       "Name: registration_year, dtype: float64"
      ]
     },
     "execution_count": 36,
     "metadata": {},
     "output_type": "execute_result"
    }
   ],
   "source": [
    "autos[~condition][\"registration_year\"].describe()"
   ]
  },
  {
   "cell_type": "code",
   "execution_count": 37,
   "id": "ab000360",
   "metadata": {},
   "outputs": [],
   "source": [
    "# Remove false data\n",
    "autos = autos[~condition]"
   ]
  },
  {
   "cell_type": "code",
   "execution_count": 38,
   "id": "367221ae",
   "metadata": {},
   "outputs": [
    {
     "data": {
      "text/plain": [
       "2000    0.068813\n",
       "1999    0.063812\n",
       "2005    0.062548\n",
       "2006    0.056702\n",
       "2001    0.056668\n",
       "2003    0.055701\n",
       "2004    0.055345\n",
       "2002    0.053784\n",
       "1998    0.050314\n",
       "2007    0.049535\n",
       "Name: registration_year, dtype: float64"
      ]
     },
     "execution_count": 38,
     "metadata": {},
     "output_type": "execute_result"
    }
   ],
   "source": [
    "autos[\"registration_year\"].value_counts(normalize=True).head(10)"
   ]
  },
  {
   "cell_type": "markdown",
   "id": "ad34c97e",
   "metadata": {},
   "source": [
    "# Exploring price by brand"
   ]
  },
  {
   "cell_type": "code",
   "execution_count": 39,
   "id": "daf04c9c",
   "metadata": {},
   "outputs": [],
   "source": [
    "# We take the top 20 brands\n",
    "brands = autos[\"brand\"].value_counts().head(6)"
   ]
  },
  {
   "cell_type": "code",
   "execution_count": 40,
   "id": "02b2468b",
   "metadata": {},
   "outputs": [],
   "source": [
    "price_by_brand = {}\n",
    "\n",
    "for b in brands.index:\n",
    "    rows = autos[autos[\"brand\"]==b]\n",
    "    mean_price = rows[\"price\"].mean()\n",
    "    price_by_brand[b]=int(mean_price)"
   ]
  },
  {
   "cell_type": "code",
   "execution_count": 41,
   "id": "4aa66e11",
   "metadata": {},
   "outputs": [
    {
     "data": {
      "text/plain": [
       "{'volkswagen': 13643,\n",
       " 'bmw': 14798,\n",
       " 'opel': 3248,\n",
       " 'mercedes_benz': 17614,\n",
       " 'audi': 16218,\n",
       " 'ford': 8702}"
      ]
     },
     "execution_count": 41,
     "metadata": {},
     "output_type": "execute_result"
    }
   ],
   "source": [
    "price_by_brand"
   ]
  },
  {
   "cell_type": "markdown",
   "id": "bc5bd616",
   "metadata": {},
   "source": [
    "# Exploring mileage by brand"
   ]
  },
  {
   "cell_type": "code",
   "execution_count": 42,
   "id": "2dd7035c",
   "metadata": {},
   "outputs": [],
   "source": [
    "mileage_by_brand = {}\n",
    "\n",
    "for b in brands.index:\n",
    "    rows = autos[autos[\"brand\"]==b]\n",
    "    mean_mileage = rows[\"odometer_km\"].mean()\n",
    "    mileage_by_brand[b]=int(mean_mileage)"
   ]
  },
  {
   "cell_type": "code",
   "execution_count": 44,
   "id": "6e7f4037",
   "metadata": {},
   "outputs": [
    {
     "data": {
      "text/plain": [
       "{'volkswagen': 128337,\n",
       " 'bmw': 132657,\n",
       " 'opel': 128755,\n",
       " 'mercedes_benz': 130580,\n",
       " 'audi': 129491,\n",
       " 'ford': 123618}"
      ]
     },
     "execution_count": 44,
     "metadata": {},
     "output_type": "execute_result"
    }
   ],
   "source": [
    "mileage_by_brand"
   ]
  },
  {
   "cell_type": "code",
   "execution_count": 45,
   "id": "fbd393a5",
   "metadata": {},
   "outputs": [],
   "source": [
    "# Convert both dictionaries in Series\n",
    "pbb = pd.Series(price_by_brand)\n",
    "mbb = pd.Series(mileage_by_brand)"
   ]
  },
  {
   "cell_type": "code",
   "execution_count": 46,
   "id": "b8c2a1b1",
   "metadata": {},
   "outputs": [
    {
     "data": {
      "text/plain": [
       "volkswagen       13643\n",
       "bmw              14798\n",
       "opel              3248\n",
       "mercedes_benz    17614\n",
       "audi             16218\n",
       "ford              8702\n",
       "dtype: int64"
      ]
     },
     "execution_count": 46,
     "metadata": {},
     "output_type": "execute_result"
    }
   ],
   "source": [
    "pbb"
   ]
  },
  {
   "cell_type": "code",
   "execution_count": 47,
   "id": "5bc92626",
   "metadata": {},
   "outputs": [],
   "source": [
    "mean_price_mileage = pd.DataFrame(pbb, columns=[\"mean_price\"])"
   ]
  },
  {
   "cell_type": "code",
   "execution_count": 48,
   "id": "cc20e9d4",
   "metadata": {},
   "outputs": [],
   "source": [
    "mean_price_mileage[\"mean_mileage\"] = mbb"
   ]
  },
  {
   "cell_type": "code",
   "execution_count": null,
   "id": "ae428f47",
   "metadata": {},
   "outputs": [],
   "source": [
    "mean_price_mileage"
   ]
  }
 ],
 "metadata": {
  "kernelspec": {
   "display_name": "Python 3 (ipykernel)",
   "language": "python",
   "name": "python3"
  },
  "language_info": {
   "codemirror_mode": {
    "name": "ipython",
    "version": 3
   },
   "file_extension": ".py",
   "mimetype": "text/x-python",
   "name": "python",
   "nbconvert_exporter": "python",
   "pygments_lexer": "ipython3",
   "version": "3.9.13"
  }
 },
 "nbformat": 4,
 "nbformat_minor": 5
}
